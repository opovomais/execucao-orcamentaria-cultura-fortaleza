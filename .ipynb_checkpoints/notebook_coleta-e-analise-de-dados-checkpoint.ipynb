{
 "cells": [
  {
   "cell_type": "markdown",
   "metadata": {},
   "source": [
    "# Reportagem: Execução orçamentária com Cultura pela Prefeitura de Fortaleza entre 2010 a 2022"
   ]
  },
  {
   "cell_type": "markdown",
   "metadata": {},
   "source": [
    "Este repositório reúne códigos construídos para coleta e análise de dados para a realização da reportagem \"[Cultura na gestão Sarto é marcada por recordes negativos de investimentos na área](https://mais.opovo.com.br/reportagens-especiais/2023/04/10/cultura-na-gestao-sarto-e-marcada-por-recordes-negativos-de-investimentos-na-area.html)\", publicada no [O POVO+](https://mais.opovo.com.br/) em 10 de abril de 2023 e produzida em parceria com o Vida & Arte, núcleo de Cultura do O POVO.\n",
    "\n",
    "**ÍNDICE**\n",
    "\n",
    "1. [Coleta, limpeza e checagem dos dados](#coleta-limpeza-checagem)\n",
    "\n",
    "    1.1 [Despesas por função](#despesas-funcao)\n",
    "\n",
    "    1.2 [Despesas por área de atuação](#despesas-area-atuacao)\n",
    "\n",
    "\n",
    "2. [Análise e visualizações](#analise-e-visualizacoes)\n",
    "\n",
    "    2.1 [Valor empenhado para a Cultura por ano em Fortaleza-CE, entre 2010 e 2022 e Percentual do valor do orçamento empenhado para o setor cultural em relação às demais funções de governo entre 2010 e 2022](#valor-empenhado-demais-funcoes)\n",
    "\n",
    "    2.2 [Valor empenhado em Cultura em cada ano (2010-2022) em relação ao que estava previsto na Lei Orçamentária Anual (LOA)](#valor-empenhado-loa)\n",
    "\n",
    "    2.3 [Valores Empenhados, Liquidados e Pagos para a Cultura, entre 2014 e 2022](#valores-empenhados-liquidados-pagos)"
   ]
  },
  {
   "cell_type": "markdown",
   "metadata": {
    "id": "cCyqKLKuNk9k"
   },
   "source": [
    "## 1. Coleta, limpeza e checagem dos dados <a name=\"coleta-limpeza-checagem\"></a>"
   ]
  },
  {
   "cell_type": "code",
   "execution_count": null,
   "metadata": {
    "id": "43VZdei1OLAP"
   },
   "outputs": [],
   "source": [
    "import os\n",
    "import pandas as pd\n",
    "import numpy as np"
   ]
  },
  {
   "cell_type": "markdown",
   "metadata": {
    "id": "UQWyYIEthJRw"
   },
   "source": [
    "### 1.1 Despesas por função <a name=\"despesas-funcao\"></a>\n",
    "\n",
    "O código utilizado para coleta, via *Selenium*, está disponível abaixo como comentário. Neste arquivo apenas realizamos a leitura e tratamento dos dados previamente coletados. "
   ]
  },
  {
   "cell_type": "code",
   "execution_count": null,
   "metadata": {
    "id": "INhdR1_GCpDo"
   },
   "outputs": [],
   "source": [
    "arquivos = 'arquivos/'"
   ]
  },
  {
   "cell_type": "markdown",
   "metadata": {
    "id": "2Yy2A49Kh8uy"
   },
   "source": [
    "\n",
    "Código utilizado para coleta (para saber mais sobre as configurações da biblioteca utilizada, consulte [este link](https://pypi.org/project/selenium/): \n",
    "\n",
    "\n",
    "``` python \n",
    "import pandas as pd\n",
    "\n",
    "from selenium.webdriver import Chrome, ChromeOptions, Firefox\n",
    "from selenium.webdriver import ActionChains\n",
    "from selenium.webdriver.common.by import By\n",
    "from selenium.webdriver.common.keys import Keys\n",
    "from selenium.webdriver.support.ui import WebDriverWait\n",
    "from selenium.webdriver.support import expected_conditions as EC\n",
    "\n",
    "from selenium.common.exceptions import NoSuchElementException\n",
    "from selenium.common.exceptions import StaleElementReferenceException\n",
    "import time \n",
    "from selenium.webdriver.firefox.options import Options\n",
    "\n",
    "\n",
    "for a in range(2010,2023):\n",
    "    print(a)\n",
    "    meses = ['dez', 'nov', 'out', 'set', 'ago', 'jul', 'jun', 'mai', 'abr','mar', 'fev', 'jan']\n",
    "    colunas = ['descrição da despesa','Valor Anual Previsto na LOA','valor mensal empenhado','Valor Acumulado']\n",
    "    df_ano_mes = []\n",
    "    for i,m in enumerate(meses):\n",
    "        print(m)\n",
    "        url = f'https://transparencia.fortaleza.ce.gov.br/index.php/despesa/exibirDespesasPorFuncao/{a}#tabs-{m}'\n",
    "\n",
    "        options = Options()\n",
    "        options.headless = True\n",
    "        webdriver = Firefox(executable_path='/home/alexandre/bin/geckodriver', options=options)\n",
    "\n",
    "        webdriver.get(url)\n",
    "        time.sleep(3)\n",
    "\n",
    "        table = webdriver.find_elements(By.CLASS_NAME, 'table')[11-i]\n",
    "        \n",
    "        rows = table.find_elements(By.TAG_NAME, \"tr\") \n",
    "        cr = 0\n",
    "        lista_dados = []\n",
    "        for row in rows[1:]:\n",
    "            col = row.find_elements(By.TAG_NAME, \"td\")\n",
    "            lista_dados.append({\n",
    "                                'ano':a,\n",
    "                                'mes':m,\n",
    "                                colunas[0]:col[0].text,\n",
    "                                colunas[1]:col[1].text,\n",
    "                                colunas[2]:col[2].text,\n",
    "                                colunas[3]:col[3].text,\n",
    "                                })\n",
    "        df = pd.DataFrame(lista_dados)\n",
    "\n",
    "        df_ano_mes.append(df)\n",
    "\n",
    "        df = pd.concat(df_ano_mes)\n",
    "        df.to_csv(arquivos + f'df_{a}.csv')\n",
    "        webdriver.close()\n",
    "        \n",
    "```\n",
    "\n",
    "\n"
   ]
  },
  {
   "cell_type": "code",
   "execution_count": null,
   "metadata": {
    "id": "HZv7_7tHNpun"
   },
   "outputs": [],
   "source": [
    "dict_meses = {'dez':12,\n",
    "              'nov':11, \n",
    "              'out':10,\n",
    "              'set':9, \n",
    "              'ago':8, \n",
    "              'jul':7, \n",
    "              'jun':6,\n",
    "              'mai':5,\n",
    "              'abr':4,\n",
    "              'mar':3,\n",
    "              'fev':2,\n",
    "              'jan':1\n",
    "             }"
   ]
  },
  {
   "cell_type": "code",
   "execution_count": null,
   "metadata": {
    "id": "ei3JIpLKPsCb"
   },
   "outputs": [],
   "source": [
    "pd.options.display.float_format = '{:.2f}'.format"
   ]
  },
  {
   "cell_type": "code",
   "execution_count": null,
   "metadata": {
    "colab": {
     "base_uri": "https://localhost:8080/"
    },
    "id": "Romumf1AOO0s",
    "outputId": "c99b3239-73bb-41f7-c157-5e5f93d201d5"
   },
   "outputs": [],
   "source": [
    "!pip install calculadora_do_cidadao"
   ]
  },
  {
   "cell_type": "code",
   "execution_count": null,
   "metadata": {
    "id": "br71KsaCOSjR"
   },
   "outputs": [],
   "source": [
    "from calculadora_do_cidadao import Ipca\n",
    "from datetime import date"
   ]
  },
  {
   "cell_type": "code",
   "execution_count": null,
   "metadata": {
    "id": "gOWBNyVROT5U"
   },
   "outputs": [],
   "source": [
    "ipca = Ipca()"
   ]
  },
  {
   "cell_type": "code",
   "execution_count": null,
   "metadata": {
    "id": "QzKsKYBZOVAX"
   },
   "outputs": [],
   "source": [
    "path_scrap = 'web_scrap_selenium'"
   ]
  },
  {
   "cell_type": "code",
   "execution_count": null,
   "metadata": {
    "id": "D0Gie1jhOgYY"
   },
   "outputs": [],
   "source": [
    "lista_df = []\n",
    "\n",
    "for f in os.listdir(path_scrap):\n",
    "    lista_df.append(pd.read_csv(path_scrap+'/'+f))\n",
    "\n",
    "wsDf = pd.concat(lista_df)[['ano', 'mes', 'descrição da despesa',\n",
    "       'Valor Anual Previsto na LOA', 'valor mensal empenhado',\n",
    "       'Valor Acumulado']]"
   ]
  },
  {
   "cell_type": "code",
   "execution_count": null,
   "metadata": {
    "id": "wy1aMX2zOic3"
   },
   "outputs": [],
   "source": [
    "wsDf['ano/mes'] = wsDf.apply(lambda x: f'{x.mes}/{x.ano}', axis=1)"
   ]
  },
  {
   "cell_type": "code",
   "execution_count": null,
   "metadata": {
    "colab": {
     "base_uri": "https://localhost:8080/"
    },
    "id": "tE5a4TdgO8Po",
    "outputId": "e917f687-ffd2-4d7b-823f-b92a4cb8d654"
   },
   "outputs": [],
   "source": [
    "wsDf['Valor Anual Previsto na LOA'] = wsDf['Valor Anual Previsto na LOA'].str.replace('.', '').str.replace(',', '.').astype(float)\n",
    "wsDf['valor mensal empenhado'] = wsDf['valor mensal empenhado'].str.replace('.', '').str.replace(',', '.').astype(float)\n",
    "wsDf['Valor Acumulado'] = wsDf['Valor Acumulado'].str.replace('.', '').str.replace(',', '.').astype(float)"
   ]
  },
  {
   "cell_type": "code",
   "execution_count": null,
   "metadata": {
    "id": "K6lpokNbO94c"
   },
   "outputs": [],
   "source": [
    "wsDf['dtg'] = wsDf.apply(lambda x: pd.to_datetime(f'{x.ano}-{dict_meses[x.mes]}'), axis=1)"
   ]
  },
  {
   "cell_type": "code",
   "execution_count": null,
   "metadata": {
    "id": "sGdNUbpUO_lM"
   },
   "outputs": [],
   "source": [
    "wsDf['valor mensal empenhado corrigido'] = wsDf.apply(lambda x: x['valor mensal empenhado'] * float(ipca.adjust(x['dtg'])), axis=1)\n",
    "wsDf['valor Acumulado corrigido'] = wsDf.apply(lambda x: x['Valor Acumulado'] * float(ipca.adjust(x['dtg'])), axis=1)"
   ]
  },
  {
   "cell_type": "code",
   "execution_count": null,
   "metadata": {
    "colab": {
     "base_uri": "https://localhost:8080/",
     "height": 423
    },
    "id": "j44vTe12PA2B",
    "outputId": "377ede9a-c6d9-477f-d64d-4cfce39ff4cd"
   },
   "outputs": [],
   "source": [
    "wsDf.loc[wsDf['descrição da despesa'] != 'TOTAIS'][['ano','mes','valor mensal empenhado','valor mensal empenhado corrigido','dtg']]"
   ]
  },
  {
   "cell_type": "markdown",
   "metadata": {
    "id": "DFMeQhjkifgS"
   },
   "source": [
    "### 1.2 Despesas por área de atuação <a name=\"despesas-area-atuacao\"></a>\n",
    "\n",
    "A coleta dos dados foi feita com o webscraper, extensão para browsers. Para saber mais sobre a ferramenta, acesse [este link](https://www.webscraper.io/)."
   ]
  },
  {
   "cell_type": "code",
   "execution_count": null,
   "metadata": {
    "id": "RMm7Pg3OjTR5"
   },
   "outputs": [],
   "source": [
    "df = pd.read_csv('despesas_por_area_de_atuacao.csv')"
   ]
  },
  {
   "cell_type": "code",
   "execution_count": null,
   "metadata": {
    "id": "_eIRA2e7jbJZ"
   },
   "outputs": [],
   "source": [
    "funcoes = ['ADMINISTRACAO', 'ASSISTENCIA SOCIAL', 'CIENCIA E TECNOLOGIA', 'COMERCIO E SERVICOS', 'COMUNICACOES',  'CULTURA', 'DESPORTO E LAZER', 'DIREITOS DA CIDADANIA', 'EDUCACAO', 'ENCARGOS ESPECIAIS', 'ENERGIA', 'ESSENCIAL A JUSTICA', 'GESTAO AMBIENTAL', 'HABITACAO', 'JUDICIARIA', 'LEGISLATIVA', 'PREVIDENCIA SOCIAL', 'RESERVA DE CONTINGENCIA', 'SANEAMENTO', 'SAUDE', 'SEGURANCA PUBLICA', 'TRABALHO', 'TRANSPORTE', 'URBANISMO']"
   ]
  },
  {
   "cell_type": "code",
   "execution_count": null,
   "metadata": {
    "id": "y3IV3glQjUwx"
   },
   "outputs": [],
   "source": [
    "df['tipo'] = np.where(df['função / subfunção'].isin(funcoes), 'função', 'subfunção')"
   ]
  },
  {
   "cell_type": "code",
   "execution_count": null,
   "metadata": {
    "id": "nKUV3jDMjZFD"
   },
   "outputs": [],
   "source": [
    "df['ano'] = df['web-scraper-start-url'].apply(lambda x: x.split(\"exercicio=\")[1].split(\"&\")[0]) "
   ]
  },
  {
   "cell_type": "code",
   "execution_count": null,
   "metadata": {
    "colab": {
     "base_uri": "https://localhost:8080/"
    },
    "id": "f9xYbM5cjVxx",
    "outputId": "29752ebb-b055-4c36-e561-b73ff855a9ce"
   },
   "outputs": [],
   "source": [
    "df['Dotação Orçamentária'] = df['Dotação Orçamentária'].str.replace('.', '').str.replace(',', '.').astype(float)\n",
    "df['Valor Empenhado'] = df['Valor Empenhado'].str.replace('.', '').str.replace(',', '.').astype(float)\n",
    "df['Valor Liquidado'] = df['Valor Liquidado'].str.replace('.', '').str.replace(',', '.').astype(float)\n",
    "df['Valor Pago'] = df['Valor Pago'].str.replace('.', '').str.replace(',', '.').astype(float)"
   ]
  },
  {
   "cell_type": "code",
   "execution_count": null,
   "metadata": {
    "id": "ZDL7N2fvj04Z"
   },
   "outputs": [],
   "source": [
    "df['dtg'] = df.ano.apply(lambda x: pd.to_datetime(f'{x}-12-31')) "
   ]
  },
  {
   "cell_type": "code",
   "execution_count": null,
   "metadata": {
    "id": "yTNkJm0Bj2A1"
   },
   "outputs": [],
   "source": [
    "df['valor_pago_corrigido'] = df.apply(lambda x: x['Valor Pago'] * float(ipca.adjust(x['dtg'])), axis=1)\n",
    "df['valor_empenhado_corrigido'] = df.apply(lambda x: x['Valor Empenhado'] * float(ipca.adjust(x['dtg'])), axis=1)\n",
    "df['valor_liquidado_corrigido'] = df.apply(lambda x: x['Valor Liquidado'] * float(ipca.adjust(x['dtg'])), axis=1)"
   ]
  },
  {
   "cell_type": "code",
   "execution_count": null,
   "metadata": {
    "id": "efLDDcsMj3LK"
   },
   "outputs": [],
   "source": [
    "def getSubfunc(idx_ano):\n",
    "    cont = idx_ano+1\n",
    "    while df.iloc[cont].tipo == 'subfunção':\n",
    "        cont+=1\n",
    "        return df.iloc[idx_ano+1:cont].copy()"
   ]
  },
  {
   "cell_type": "code",
   "execution_count": null,
   "metadata": {
    "id": "TnSGNM_gj40C"
   },
   "outputs": [],
   "source": [
    "lista_subfuncoes = []\n",
    "for y in list(df[df['função / subfunção'] == 'CULTURA'].index):\n",
    "    lista_subfuncoes.append(getSubfunc(y))"
   ]
  },
  {
   "cell_type": "code",
   "execution_count": null,
   "metadata": {
    "id": "5jsstuoMj59k"
   },
   "outputs": [],
   "source": [
    "subfuncoes_cultura = pd.concat(lista_subfuncoes)"
   ]
  },
  {
   "cell_type": "code",
   "execution_count": null,
   "metadata": {
    "colab": {
     "base_uri": "https://localhost:8080/",
     "height": 1000
    },
    "id": "k45jKJ_Bj6vg",
    "outputId": "273482df-752d-41d1-94c4-5f58943c3068",
    "scrolled": false
   },
   "outputs": [],
   "source": [
    "subfuncoes_cultura"
   ]
  },
  {
   "cell_type": "markdown",
   "metadata": {
    "id": "O-hfkbSSNrCd"
   },
   "source": [
    "## 2. Análise e visualizações <a name=\"analise-e-visualizacoes\"></a>"
   ]
  },
  {
   "cell_type": "markdown",
   "metadata": {
    "id": "Jb59wIZzNvyd"
   },
   "source": [
    "### 2.1 Valor empenhado para a Cultura por ano em Fortaleza-CE, entre 2010 e 2022 e Percentual do valor do orçamento empenhado para o setor cultural em relação às demais funções de governo entre 2010 e 2022 <a name=\"valor-empenhado-demais-funcoes\"></a>\n"
   ]
  },
  {
   "cell_type": "code",
   "execution_count": null,
   "metadata": {
    "id": "xFd8tYBcNtpJ"
   },
   "outputs": [],
   "source": [
    "resumo_cultura_total = wsDf.loc[(wsDf['descrição da despesa'] == 'TOTAIS') | (wsDf['descrição da despesa'] == 'CULTURA')].pivot(index=['ano','mes'], columns ='descrição da despesa', values = 'valor mensal empenhado corrigido').reset_index()"
   ]
  },
  {
   "cell_type": "code",
   "execution_count": null,
   "metadata": {
    "id": "_33BIrvQPjk2"
   },
   "outputs": [],
   "source": [
    "resumo_cultura_total['pct'] = round(resumo_cultura_total['CULTURA']/resumo_cultura_total['TOTAIS']*100,2)"
   ]
  },
  {
   "cell_type": "code",
   "execution_count": null,
   "metadata": {
    "id": "bmTDaIriPmDT"
   },
   "outputs": [],
   "source": [
    "resumo_cultura_total.columns = ['Ano','Mẽs', 'Cultura', 'Todas as funções', 'Pct'] "
   ]
  },
  {
   "cell_type": "code",
   "execution_count": null,
   "metadata": {
    "colab": {
     "base_uri": "https://localhost:8080/",
     "height": 423
    },
    "id": "-zSfLi-2Pnfm",
    "outputId": "3f7925f3-2be8-4e3d-8c6e-b215f06838fa"
   },
   "outputs": [],
   "source": [
    "resumo_cultura_total"
   ]
  },
  {
   "cell_type": "code",
   "execution_count": null,
   "metadata": {
    "id": "acFFVq7lP1gy"
   },
   "outputs": [],
   "source": [
    "resumo_cultura_total_ano =  wsDf.loc[((wsDf['descrição da despesa'] == 'TOTAIS') | (wsDf['descrição da despesa'] == 'CULTURA')) & (wsDf['mes'] == 'dez')].pivot(index='ano', columns ='descrição da despesa', values = 'valor Acumulado corrigido').reset_index()"
   ]
  },
  {
   "cell_type": "code",
   "execution_count": null,
   "metadata": {
    "id": "sdeSXiNiP7xd"
   },
   "outputs": [],
   "source": [
    "resumo_cultura_total_ano['pct'] = round(resumo_cultura_total_ano['CULTURA']/resumo_cultura_total_ano['TOTAIS']*100,2)"
   ]
  },
  {
   "cell_type": "code",
   "execution_count": null,
   "metadata": {
    "id": "JRusfeeiP-Cw"
   },
   "outputs": [],
   "source": [
    "resumo_cultura_total_ano.columns = ['Ano', 'Cultura', 'Todas as funções', 'Pct']"
   ]
  },
  {
   "cell_type": "code",
   "execution_count": null,
   "metadata": {
    "colab": {
     "base_uri": "https://localhost:8080/",
     "height": 457
    },
    "id": "zWUSmWzlP_Wi",
    "outputId": "2c59e784-ef56-437c-acb8-ccd3dc9456d4"
   },
   "outputs": [],
   "source": [
    "resumo_cultura_total_ano"
   ]
  },
  {
   "cell_type": "code",
   "execution_count": null,
   "metadata": {
    "id": "FUnrRBPnQKi4"
   },
   "outputs": [],
   "source": [
    "resumo_cultura_total_ano_sem_correcao =  wsDf.loc[((wsDf['descrição da despesa'] == 'TOTAIS') | (wsDf['descrição da despesa'] == 'CULTURA')) & (wsDf['mes'] == 'dez')].pivot(index='ano', columns ='descrição da despesa', values = 'Valor Acumulado').reset_index()"
   ]
  },
  {
   "cell_type": "code",
   "execution_count": null,
   "metadata": {
    "id": "upc-5Q6aQK1p"
   },
   "outputs": [],
   "source": [
    "resumo_cultura_total_ano_sem_correcao['pct'] = round(resumo_cultura_total_ano_sem_correcao['CULTURA']/resumo_cultura_total_ano_sem_correcao['TOTAIS']*100,2)\n",
    "resumo_cultura_total_ano_sem_correcao.columns = ['Ano', 'Cultura _ Sem Correção', 'Todas as funções _ Sem correção', 'Pct  _ Sem correção']"
   ]
  },
  {
   "cell_type": "code",
   "execution_count": null,
   "metadata": {
    "colab": {
     "base_uri": "https://localhost:8080/",
     "height": 457
    },
    "id": "S5NE179_QN2A",
    "outputId": "4297dce5-5800-4b49-b16b-4d262d5f0833"
   },
   "outputs": [],
   "source": [
    "resumo_cultura_total_ano_sem_correcao"
   ]
  },
  {
   "cell_type": "code",
   "execution_count": null,
   "metadata": {
    "colab": {
     "base_uri": "https://localhost:8080/",
     "height": 457
    },
    "id": "ZQXhqrUQQPEo",
    "outputId": "ccd0b3e2-cf6a-4759-e7b6-ca96aa42b9b7"
   },
   "outputs": [],
   "source": [
    "pd.merge(resumo_cultura_total_ano_sem_correcao, resumo_cultura_total_ano, on='Ano')"
   ]
  },
  {
   "cell_type": "markdown",
   "metadata": {
    "id": "SJRIE1CRN8Av"
   },
   "source": [
    "### 2.2 Valor empenhado em Cultura em cada ano (2010-2022) em relação ao que estava previsto na Lei Orçamentária Anual (LOA) <a name=\"valor-empenhado-loa\"></a>"
   ]
  },
  {
   "cell_type": "code",
   "execution_count": null,
   "metadata": {
    "colab": {
     "base_uri": "https://localhost:8080/",
     "height": 457
    },
    "id": "78xdoTcnN_Qa",
    "outputId": "7d34d6a6-7786-4d6e-ea5e-42ba2fd189b6"
   },
   "outputs": [],
   "source": [
    "cultura_por_ano = wsDf.loc[(wsDf['descrição da despesa'] == 'CULTURA') &(wsDf['mes']== 'dez')].sort_values(by='ano')\n",
    "cultura_por_ano['pct']  = round(cultura_por_ano['Valor Acumulado']/cultura_por_ano['Valor Anual Previsto na LOA']*100,2)\n",
    "cultura_por_ano=cultura_por_ano[['ano','Valor Anual Previsto na LOA','Valor Acumulado','pct']]\n",
    "cultura_por_ano.columns = ['Ano','Valor previsto na LOA','Valor empenhado no ano','Pct']\n",
    "cultura_por_ano.to_csv(arquivos + 'valor_anual_previsto_LOA_e_valor_acumulado.csv', index=False)\n",
    "cultura_por_ano"
   ]
  },
  {
   "cell_type": "markdown",
   "metadata": {
    "id": "Bt97Rfc1OBBv"
   },
   "source": [
    "### 2.3 Valores Empenhados, Liquidados e Pagos para a Cultura, entre 2014 e 2022 <a name=\"valores-empenhados-liquidados-pagos\"></a>\n",
    "(Valores totais e distribuídos por subfunção)\n"
   ]
  },
  {
   "cell_type": "code",
   "execution_count": null,
   "metadata": {
    "colab": {
     "base_uri": "https://localhost:8080/",
     "height": 420
    },
    "id": "F9756_r7OCcz",
    "outputId": "c5ca83d5-ba9e-4018-ae8c-8254ba926047"
   },
   "outputs": [],
   "source": [
    "valores_cultura_soma = subfuncoes_cultura.groupby('ano').sum().round(2)\n",
    "valores_cultura_soma"
   ]
  },
  {
   "cell_type": "code",
   "execution_count": null,
   "metadata": {
    "colab": {
     "base_uri": "https://localhost:8080/",
     "height": 331
    },
    "id": "mfKOZVsOkCJV",
    "outputId": "c2df15ff-0f5e-4c23-9a0c-fa61853ed644"
   },
   "outputs": [],
   "source": [
    "valores_cultura = df[df['função / subfunção'] == 'CULTURA'][['ano','Dotação Orçamentária', 'Valor Empenhado','Valor Liquidado',\n",
    "       'Valor Pago','%(B/A)%','valor_pago_corrigido','valor_empenhado_corrigido','valor_liquidado_corrigido']].sort_values(by='ano')\n",
    "valores_cultura"
   ]
  },
  {
   "cell_type": "code",
   "execution_count": null,
   "metadata": {
    "colab": {
     "base_uri": "https://localhost:8080/"
    },
    "id": "ofDoBv65kK6D",
    "outputId": "f728eb4f-6e78-4a19-9921-1904b355fe7f"
   },
   "outputs": [],
   "source": [
    "# Teste de valores totais para cultura e divididos por subfunção, a cada ano:\n",
    "\n",
    "valores_cultura_soma.reset_index()['Valor Pago'] == valores_cultura.reset_index()['Valor Pago']"
   ]
  },
  {
   "cell_type": "code",
   "execution_count": null,
   "metadata": {
    "colab": {
     "base_uri": "https://localhost:8080/"
    },
    "id": "MgY7KPx3kiMe",
    "outputId": "6c5d7bbf-0fd1-4695-8739-aeaa420cdc20"
   },
   "outputs": [],
   "source": [
    "valores_cultura_soma.reset_index()['Valor Liquidado'] == valores_cultura.reset_index()['Valor Liquidado']"
   ]
  },
  {
   "cell_type": "code",
   "execution_count": null,
   "metadata": {
    "colab": {
     "base_uri": "https://localhost:8080/"
    },
    "id": "vUlp_lH6kjoU",
    "outputId": "05545bb2-1260-4e10-a080-2a077ebee185"
   },
   "outputs": [],
   "source": [
    "valores_cultura_soma.reset_index()['Valor Empenhado'] == valores_cultura.reset_index()['Valor Empenhado']"
   ]
  },
  {
   "cell_type": "code",
   "execution_count": null,
   "metadata": {
    "colab": {
     "base_uri": "https://localhost:8080/"
    },
    "id": "VHJPLsprklOQ",
    "outputId": "5fd50247-88fd-418c-a6bf-701633f9919c"
   },
   "outputs": [],
   "source": [
    "valores_cultura_soma.reset_index()['Valor Pago'] == valores_cultura.reset_index()['Valor Pago']"
   ]
  },
  {
   "cell_type": "code",
   "execution_count": null,
   "metadata": {
    "colab": {
     "base_uri": "https://localhost:8080/",
     "height": 423
    },
    "id": "0Lx-OFhMkrUW",
    "outputId": "834cc09b-de45-47e1-ff7b-454f8943574f"
   },
   "outputs": [],
   "source": [
    "colunas = ['ano','Dotação Orçamentária', 'Valor Empenhado', 'Valor Liquidado', 'Valor Pago','função / subfunção','valor_pago_corrigido','valor_empenhado_corrigido','valor_liquidado_corrigido']\n",
    "\n",
    "todas = df[df['função / subfunção'] == 'CULTURA'][colunas].copy().sort_values(by='ano')\n",
    "todas['função / subfunção'] = 'Todas'\n",
    "\n",
    "pd.concat([todas,subfuncoes_cultura[colunas]]).to_csv(arquivos + 'gastos_cultura_por_subfuncao.csv', index=False)\n",
    "\n",
    "\n",
    "pd.concat([todas,subfuncoes_cultura[colunas]])"
   ]
  },
  {
   "cell_type": "code",
   "execution_count": null,
   "metadata": {
    "id": "mlBTU1_PkvGt"
   },
   "outputs": [],
   "source": [
    "resumo_por_subfuncao =  subfuncoes_cultura[colunas].copy()\n",
    "\n",
    "resumo_por_subfuncao.loc[(resumo_por_subfuncao['função / subfunção'] != 'ADMINISTRACAO GERAL') & (resumo_por_subfuncao['função / subfunção'] != 'DIFUSAO CULTURAL'),'função / subfunção'] = 'Outras'\n",
    "\n",
    "resumo_por_subfuncao = resumo_por_subfuncao.groupby(['ano','função / subfunção']).sum().reset_index().pivot(index='ano', columns='função / subfunção', values='valor_pago_corrigido').fillna(0).reset_index()"
   ]
  },
  {
   "cell_type": "code",
   "execution_count": null,
   "metadata": {
    "colab": {
     "base_uri": "https://localhost:8080/",
     "height": 331
    },
    "id": "DSjcJMOEkxsV",
    "outputId": "cc831c74-90b5-4976-c370-71ffc782c1ae"
   },
   "outputs": [],
   "source": [
    "resumo_por_subfuncao"
   ]
  },
  {
   "cell_type": "code",
   "execution_count": null,
   "metadata": {
    "id": "N0-UBzREkzKm"
   },
   "outputs": [],
   "source": [
    "resumo_por_subfuncao.to_csv(arquivos + 'resumo_por_subfuncao.csv', index=False)"
   ]
  },
  {
   "cell_type": "code",
   "execution_count": null,
   "metadata": {
    "id": "dveUTBEDk11d"
   },
   "outputs": [],
   "source": [
    "resumo_por_subfuncao_v2 =  subfuncoes_cultura[colunas].copy()\n",
    "\n",
    "resumo_por_subfuncao_v2 = resumo_por_subfuncao_v2.groupby(['ano','função / subfunção']).sum().reset_index().pivot(index='ano', columns='função / subfunção', values='valor_pago_corrigido').fillna(0).reset_index()"
   ]
  },
  {
   "cell_type": "code",
   "execution_count": null,
   "metadata": {
    "id": "uR1oLVwik2rV"
   },
   "outputs": [],
   "source": [
    "resumo_por_subfuncao_v2.to_csv(arquivos + 'resumo_por_subfuncao_v2.csv', index=False)"
   ]
  },
  {
   "cell_type": "code",
   "execution_count": null,
   "metadata": {
    "colab": {
     "base_uri": "https://localhost:8080/",
     "height": 393
    },
    "id": "PbFTG2lbk3iv",
    "outputId": "5c3a78df-ac4e-4064-98b9-60786e32148c"
   },
   "outputs": [],
   "source": [
    "resumo_por_subfuncao_v2"
   ]
  },
  {
   "cell_type": "code",
   "execution_count": null,
   "metadata": {
    "id": "Mz5c5vCWB9H1"
   },
   "outputs": [],
   "source": []
  }
 ],
 "metadata": {
  "colab": {
   "provenance": []
  },
  "kernelspec": {
   "display_name": "Python 3 (ipykernel)",
   "language": "python",
   "name": "python3"
  },
  "language_info": {
   "codemirror_mode": {
    "name": "ipython",
    "version": 3
   },
   "file_extension": ".py",
   "mimetype": "text/x-python",
   "name": "python",
   "nbconvert_exporter": "python",
   "pygments_lexer": "ipython3",
   "version": "3.11.2"
  }
 },
 "nbformat": 4,
 "nbformat_minor": 1
}
